{
  "nbformat": 4,
  "nbformat_minor": 0,
  "metadata": {
    "colab": {
      "provenance": [],
      "gpuType": "T4",
      "authorship_tag": "ABX9TyOP+YI+yA2RzZpaVr3sQHcm",
      "include_colab_link": true
    },
    "kernelspec": {
      "name": "python3",
      "display_name": "Python 3"
    },
    "language_info": {
      "name": "python"
    },
    "accelerator": "GPU"
  },
  "cells": [
    {
      "cell_type": "markdown",
      "metadata": {
        "id": "view-in-github",
        "colab_type": "text"
      },
      "source": [
        "<a href=\"https://colab.research.google.com/github/Maruf-16203091/Flowers-Prediction/blob/main/flower_prediction.ipynb\" target=\"_parent\"><img src=\"https://colab.research.google.com/assets/colab-badge.svg\" alt=\"Open In Colab\"/></a>"
      ]
    },
    {
      "cell_type": "code",
      "execution_count": 22,
      "metadata": {
        "id": "qZxNTS3p4-Q-"
      },
      "outputs": [],
      "source": [
        "import torch\n",
        "from torchvision import datasets, transforms\n",
        "from torch.utils.data import DataLoader, random_split\n",
        "import torch.nn as nn\n",
        "import torch.optim as optim\n",
        "from torchvision.datasets import ImageFolder\n",
        "import matplotlib.pyplot as plt\n",
        "\n",
        "device = torch.device(\"cuda\" if torch.cuda.is_available() else \"cpu\")\n"
      ]
    },
    {
      "cell_type": "code",
      "source": [
        "transform = transforms.Compose([\n",
        "    transforms.Resize((64, 64)),\n",
        "    transforms.RandomHorizontalFlip(p=0.5),\n",
        "    transforms.RandomRotation(20),\n",
        "    transforms.ColorJitter(brightness=0.3, contrast=0.3, saturation=0.3),\n",
        "    transforms.ToTensor(),\n",
        "    transforms.Normalize([0.485, 0.456, 0.406],\n",
        "                         [0.229, 0.224, 0.225])\n",
        "])"
      ],
      "metadata": {
        "id": "zdatcyYJ6OTN"
      },
      "execution_count": 23,
      "outputs": []
    },
    {
      "cell_type": "code",
      "source": [
        "from google.colab import drive\n",
        "drive.mount('/content/drive')\n",
        "\n",
        "dataset = ImageFolder(root='/content/drive/MyDrive/ML_Datasets/flowers', transform=transform)"
      ],
      "metadata": {
        "colab": {
          "base_uri": "https://localhost:8080/"
        },
        "id": "Geo5XHzY6MNK",
        "outputId": "ba971d9d-5a0f-4c9d-a3d2-acaa66724554"
      },
      "execution_count": 24,
      "outputs": [
        {
          "output_type": "stream",
          "name": "stdout",
          "text": [
            "Drive already mounted at /content/drive; to attempt to forcibly remount, call drive.mount(\"/content/drive\", force_remount=True).\n"
          ]
        }
      ]
    },
    {
      "cell_type": "code",
      "source": [
        "train_size = int(0.8 * len(dataset))\n",
        "test_size = len(dataset) - train_size\n",
        "train_ds, test_ds = random_split(dataset, [train_size, test_size])\n",
        "\n",
        "train_loader = DataLoader(train_ds, batch_size=32, shuffle=True)\n",
        "test_loader = DataLoader(test_ds, batch_size=32)"
      ],
      "metadata": {
        "id": "_wDwioPI5g5K"
      },
      "execution_count": 25,
      "outputs": []
    },
    {
      "cell_type": "code",
      "source": [
        "classes = dataset.classes\n",
        "print(f\"Classes: {classes}\")\n",
        "\n",
        "class SimpleCNN(nn.Module):\n",
        "    def __init__(self, num_classes=len(classes)):\n",
        "        super(SimpleCNN, self).__init__()\n",
        "        self.conv1 = nn.Conv2d(3, 16, 3, padding=1)     # 64x64x3 → 64x64x16\n",
        "        self.pool = nn.MaxPool2d(2, 2)                 # 64x64 → 32x32\n",
        "        self.conv2 = nn.Conv2d(16, 32, 3, padding=1)    # 32x32x16 → 32x32x32\n",
        "        self.fc1 = nn.Linear(32 * 16 * 16, 128)         # Flatten and FC\n",
        "        self.fc2 = nn.Linear(128, num_classes)          # Output layer\n",
        "        self.relu = nn.ReLU()\n",
        "\n",
        "    def forward(self, x):\n",
        "        x = self.pool(self.relu(self.conv1(x)))\n",
        "        x = self.pool(self.relu(self.conv2(x)))\n",
        "        x = x.view(-1, 32 * 16 * 16)\n",
        "        x = self.relu(self.fc1(x))\n",
        "        x = self.fc2(x)\n",
        "        return x"
      ],
      "metadata": {
        "colab": {
          "base_uri": "https://localhost:8080/"
        },
        "id": "-7x899Cu5dUV",
        "outputId": "2e74d07a-6179-435d-81cd-e0ec29935fda"
      },
      "execution_count": 26,
      "outputs": [
        {
          "output_type": "stream",
          "name": "stdout",
          "text": [
            "Classes: ['daisy', 'dandelion', 'rose', 'sunflower', 'tulip']\n"
          ]
        }
      ]
    },
    {
      "cell_type": "code",
      "source": [
        "model = SimpleCNN().to(device)\n",
        "criterion = nn.CrossEntropyLoss()\n",
        "optimizer = optim.Adam(model.parameters(), lr=0.001)"
      ],
      "metadata": {
        "id": "Q2rMhajG5a0L"
      },
      "execution_count": 27,
      "outputs": []
    },
    {
      "cell_type": "code",
      "source": [
        "num_epochs = 20\n",
        "for epoch in range(num_epochs):\n",
        "    model.train()\n",
        "    running_loss = 0\n",
        "    correct = 0\n",
        "    total = 0\n",
        "\n",
        "    for inputs, labels in train_loader:\n",
        "        inputs, labels = inputs.to(device), labels.to(device)\n",
        "\n",
        "        optimizer.zero_grad()\n",
        "        outputs = model(inputs)\n",
        "        loss = criterion(outputs, labels)\n",
        "        loss.backward()\n",
        "        optimizer.step()\n",
        "\n",
        "        running_loss += loss.item()\n",
        "        _, predicted = torch.max(outputs, 1)\n",
        "        total += labels.size(0)\n",
        "        correct += (predicted == labels).sum().item()\n",
        "\n",
        "    print(f\"Epoch {epoch+1}/{num_epochs}, Loss: {running_loss/len(train_loader):.4f}, Accuracy: {100*correct/total:.2f}%\")\n"
      ],
      "metadata": {
        "colab": {
          "base_uri": "https://localhost:8080/"
        },
        "id": "ZzieNMxR5WxG",
        "outputId": "7f926589-8514-465b-9086-ec0e838de965"
      },
      "execution_count": 33,
      "outputs": [
        {
          "output_type": "stream",
          "name": "stdout",
          "text": [
            "Epoch 1/20, Loss: 0.4424, Accuracy: 84.00%\n",
            "Epoch 2/20, Loss: 0.4294, Accuracy: 83.54%\n",
            "Epoch 3/20, Loss: 0.4158, Accuracy: 84.75%\n",
            "Epoch 4/20, Loss: 0.3807, Accuracy: 85.68%\n",
            "Epoch 5/20, Loss: 0.3350, Accuracy: 88.28%\n",
            "Epoch 6/20, Loss: 0.3830, Accuracy: 86.34%\n",
            "Epoch 7/20, Loss: 0.3409, Accuracy: 88.14%\n",
            "Epoch 8/20, Loss: 0.3136, Accuracy: 88.25%\n",
            "Epoch 9/20, Loss: 0.3286, Accuracy: 88.17%\n",
            "Epoch 10/20, Loss: 0.2735, Accuracy: 90.16%\n",
            "Epoch 11/20, Loss: 0.2789, Accuracy: 90.13%\n",
            "Epoch 12/20, Loss: 0.2670, Accuracy: 89.93%\n",
            "Epoch 13/20, Loss: 0.2600, Accuracy: 90.31%\n",
            "Epoch 14/20, Loss: 0.2380, Accuracy: 91.17%\n",
            "Epoch 15/20, Loss: 0.2174, Accuracy: 92.42%\n",
            "Epoch 16/20, Loss: 0.2229, Accuracy: 91.87%\n",
            "Epoch 17/20, Loss: 0.2196, Accuracy: 92.42%\n",
            "Epoch 18/20, Loss: 0.2148, Accuracy: 92.65%\n",
            "Epoch 19/20, Loss: 0.2112, Accuracy: 92.82%\n",
            "Epoch 20/20, Loss: 0.1889, Accuracy: 93.46%\n"
          ]
        }
      ]
    },
    {
      "cell_type": "code",
      "source": [
        "model.eval()\n",
        "val_correct = 0\n",
        "val_total = 0\n",
        "with torch.no_grad():\n",
        "    for val_inputs, val_labels in test_loader:\n",
        "        val_inputs, val_labels = val_inputs.to(device), val_labels.to(device)\n",
        "        val_outputs = model(val_inputs)\n",
        "        _, val_predicted = torch.max(val_outputs, 1)\n",
        "        val_total += val_labels.size(0)\n",
        "        val_correct += (val_predicted == val_labels).sum().item()\n",
        "\n",
        "val_accuracy = 100 * val_correct / val_total\n",
        "print(f\"Epoch {epoch+1}/{num_epochs}, Loss: {running_loss/len(train_loader):.4f}, \"\n",
        "      f\"Train Accuracy: {100*correct/total:.2f}%, Test Accuracy: {val_accuracy:.2f}%\")"
      ],
      "metadata": {
        "colab": {
          "base_uri": "https://localhost:8080/"
        },
        "id": "5xMAg5FR5Slx",
        "outputId": "ee05b1c1-ce9d-4b40-b398-b93f94c8de41"
      },
      "execution_count": 34,
      "outputs": [
        {
          "output_type": "stream",
          "name": "stdout",
          "text": [
            "Epoch 20/20, Loss: 0.1889, Train Accuracy: 93.46%, Test Accuracy: 71.45%\n"
          ]
        }
      ]
    },
    {
      "cell_type": "code",
      "source": [
        "from google.colab import files\n",
        "from PIL import Image\n",
        "\n",
        "# Upload image from local\n",
        "uploaded = files.upload()\n",
        "\n",
        "# Get the uploaded filename\n",
        "image_path = list(uploaded.keys())[0]\n",
        "\n",
        "# Load and preprocess image\n",
        "image = Image.open(image_path).convert(\"RGB\")\n",
        "image = transform(image).unsqueeze(0).to(device)\n",
        "\n",
        "# Run the model\n",
        "model.eval()\n",
        "with torch.no_grad():\n",
        "    output = model(image)\n",
        "    _, predicted = torch.max(output, 1)\n",
        "\n",
        "# Get predicted class name\n",
        "class_name = dataset.classes[predicted.item()]\n",
        "print(f\"Predicted class: {class_name}\")"
      ],
      "metadata": {
        "id": "-R4V33nW5LLm"
      },
      "execution_count": null,
      "outputs": []
    }
  ]
}